{
 "cells": [
  {
   "cell_type": "code",
   "execution_count": 21,
   "id": "b336ae57-1402-43da-8bb7-7db2ab90fd72",
   "metadata": {},
   "outputs": [],
   "source": [
    "import pandas as pd\n",
    "df= pd.read_csv('spotify_history.csv')\n",
    "df['track_url'] = 'https://open.spotify.com/track/' + df['spotify_track_uri']"
   ]
  },
  {
   "cell_type": "code",
   "execution_count": 23,
   "id": "770a3125-6407-4413-a280-976a014d5857",
   "metadata": {},
   "outputs": [
    {
     "data": {
      "text/plain": [
       "array(['2J3n32GeLmMjwuAzyhcSNe', '1oHxIPqJyvAYHy0PVrDU98',\n",
       "       '487OPlneJNni3NWC8SYqhW', ..., '0mWXrr6HQZUhCQG4JMkT2e',\n",
       "       '2dhwJNH50XJWS3tCKVWKtD', '0mD2pnYVF8DB3oqtY5KM8h'], dtype=object)"
      ]
     },
     "execution_count": 23,
     "metadata": {},
     "output_type": "execute_result"
    }
   ],
   "source": [
    "df.spotify_track_uri.unique()"
   ]
  },
  {
   "cell_type": "code",
   "execution_count": 25,
   "id": "be13456a-7be2-438a-8ca1-d5ea42318da1",
   "metadata": {},
   "outputs": [],
   "source": [
    "# Load CSV file containing track IDs\n",
    "df = pd.DataFrame(df.spotify_track_uri.unique(), columns=[\"spotify_track_uri\"])"
   ]
  },
  {
   "cell_type": "code",
   "execution_count": 27,
   "id": "1e49c0b3-fd33-4e76-abdd-765d1fdcabdb",
   "metadata": {},
   "outputs": [],
   "source": [
    "import requests\n",
    "import pandas as pd\n",
    "\n",
    "# Spotify API credentials (Replace with your own)\n",
    "CLIENT_ID = 'f7d77d6ae3f14dc8baebb37b9e758cb1'\n",
    "CLIENT_SECRET = '29b46d3070974bf1a9837674c9a7d988'\n",
    "\n",
    "# Function to get Spotify Access Token\n",
    "def get_spotify_token():\n",
    "    auth_url = 'https://accounts.spotify.com/api/token'\n",
    "    auth_response = requests.post(auth_url, {\n",
    "        'grant_type': 'client_credentials',\n",
    "        'client_id': CLIENT_ID,\n",
    "        'client_secret': CLIENT_SECRET,\n",
    "    })\n",
    "    auth_data = auth_response.json()\n",
    "    return auth_data['access_token']\n",
    "\n",
    "# Function to fetch album cover URL using track ID\n",
    "def get_album_cover(track_id, token):\n",
    "    url = f\"https://api.spotify.com/v1/tracks/{track_id}\"\n",
    "    response = requests.get(url, headers={'Authorization': f'Bearer {token}'})\n",
    "    if response.status_code == 200:\n",
    "        json_data = response.json()\n",
    "        return json_data['album']['images'][0]['url']\n",
    "    return None\n",
    "\n",
    "\n",
    "# Get access token\n",
    "access_token = get_spotify_token()"
   ]
  },
  {
   "cell_type": "code",
   "execution_count": 29,
   "id": "08a730ba-2992-4824-b72d-2aadd2e74c55",
   "metadata": {},
   "outputs": [
    {
     "ename": "IndexError",
     "evalue": "list index out of range",
     "output_type": "error",
     "traceback": [
      "\u001b[1;31m---------------------------------------------------------------------------\u001b[0m",
      "\u001b[1;31mIndexError\u001b[0m                                Traceback (most recent call last)",
      "Cell \u001b[1;32mIn[29], line 2\u001b[0m\n\u001b[0;32m      1\u001b[0m \u001b[38;5;66;03m# Fetch album covers for each track ID\u001b[39;00m\n\u001b[1;32m----> 2\u001b[0m df[\u001b[38;5;124m\"\u001b[39m\u001b[38;5;124mcover_url\u001b[39m\u001b[38;5;124m\"\u001b[39m] \u001b[38;5;241m=\u001b[39m df[\u001b[38;5;124m\"\u001b[39m\u001b[38;5;124mspotify_track_uri\u001b[39m\u001b[38;5;124m\"\u001b[39m]\u001b[38;5;241m.\u001b[39mapply(\u001b[38;5;28;01mlambda\u001b[39;00m x: get_album_cover(x, access_token))\n",
      "File \u001b[1;32m~\\AppData\\Local\\anaconda3\\Lib\\site-packages\\pandas\\core\\series.py:4924\u001b[0m, in \u001b[0;36mSeries.apply\u001b[1;34m(self, func, convert_dtype, args, by_row, **kwargs)\u001b[0m\n\u001b[0;32m   4789\u001b[0m \u001b[38;5;28;01mdef\u001b[39;00m \u001b[38;5;21mapply\u001b[39m(\n\u001b[0;32m   4790\u001b[0m     \u001b[38;5;28mself\u001b[39m,\n\u001b[0;32m   4791\u001b[0m     func: AggFuncType,\n\u001b[1;32m   (...)\u001b[0m\n\u001b[0;32m   4796\u001b[0m     \u001b[38;5;241m*\u001b[39m\u001b[38;5;241m*\u001b[39mkwargs,\n\u001b[0;32m   4797\u001b[0m ) \u001b[38;5;241m-\u001b[39m\u001b[38;5;241m>\u001b[39m DataFrame \u001b[38;5;241m|\u001b[39m Series:\n\u001b[0;32m   4798\u001b[0m \u001b[38;5;250m    \u001b[39m\u001b[38;5;124;03m\"\"\"\u001b[39;00m\n\u001b[0;32m   4799\u001b[0m \u001b[38;5;124;03m    Invoke function on values of Series.\u001b[39;00m\n\u001b[0;32m   4800\u001b[0m \n\u001b[1;32m   (...)\u001b[0m\n\u001b[0;32m   4915\u001b[0m \u001b[38;5;124;03m    dtype: float64\u001b[39;00m\n\u001b[0;32m   4916\u001b[0m \u001b[38;5;124;03m    \"\"\"\u001b[39;00m\n\u001b[0;32m   4917\u001b[0m     \u001b[38;5;28;01mreturn\u001b[39;00m SeriesApply(\n\u001b[0;32m   4918\u001b[0m         \u001b[38;5;28mself\u001b[39m,\n\u001b[0;32m   4919\u001b[0m         func,\n\u001b[0;32m   4920\u001b[0m         convert_dtype\u001b[38;5;241m=\u001b[39mconvert_dtype,\n\u001b[0;32m   4921\u001b[0m         by_row\u001b[38;5;241m=\u001b[39mby_row,\n\u001b[0;32m   4922\u001b[0m         args\u001b[38;5;241m=\u001b[39margs,\n\u001b[0;32m   4923\u001b[0m         kwargs\u001b[38;5;241m=\u001b[39mkwargs,\n\u001b[1;32m-> 4924\u001b[0m     )\u001b[38;5;241m.\u001b[39mapply()\n",
      "File \u001b[1;32m~\\AppData\\Local\\anaconda3\\Lib\\site-packages\\pandas\\core\\apply.py:1427\u001b[0m, in \u001b[0;36mSeriesApply.apply\u001b[1;34m(self)\u001b[0m\n\u001b[0;32m   1424\u001b[0m     \u001b[38;5;28;01mreturn\u001b[39;00m \u001b[38;5;28mself\u001b[39m\u001b[38;5;241m.\u001b[39mapply_compat()\n\u001b[0;32m   1426\u001b[0m \u001b[38;5;66;03m# self.func is Callable\u001b[39;00m\n\u001b[1;32m-> 1427\u001b[0m \u001b[38;5;28;01mreturn\u001b[39;00m \u001b[38;5;28mself\u001b[39m\u001b[38;5;241m.\u001b[39mapply_standard()\n",
      "File \u001b[1;32m~\\AppData\\Local\\anaconda3\\Lib\\site-packages\\pandas\\core\\apply.py:1507\u001b[0m, in \u001b[0;36mSeriesApply.apply_standard\u001b[1;34m(self)\u001b[0m\n\u001b[0;32m   1501\u001b[0m \u001b[38;5;66;03m# row-wise access\u001b[39;00m\n\u001b[0;32m   1502\u001b[0m \u001b[38;5;66;03m# apply doesn't have a `na_action` keyword and for backward compat reasons\u001b[39;00m\n\u001b[0;32m   1503\u001b[0m \u001b[38;5;66;03m# we need to give `na_action=\"ignore\"` for categorical data.\u001b[39;00m\n\u001b[0;32m   1504\u001b[0m \u001b[38;5;66;03m# TODO: remove the `na_action=\"ignore\"` when that default has been changed in\u001b[39;00m\n\u001b[0;32m   1505\u001b[0m \u001b[38;5;66;03m#  Categorical (GH51645).\u001b[39;00m\n\u001b[0;32m   1506\u001b[0m action \u001b[38;5;241m=\u001b[39m \u001b[38;5;124m\"\u001b[39m\u001b[38;5;124mignore\u001b[39m\u001b[38;5;124m\"\u001b[39m \u001b[38;5;28;01mif\u001b[39;00m \u001b[38;5;28misinstance\u001b[39m(obj\u001b[38;5;241m.\u001b[39mdtype, CategoricalDtype) \u001b[38;5;28;01melse\u001b[39;00m \u001b[38;5;28;01mNone\u001b[39;00m\n\u001b[1;32m-> 1507\u001b[0m mapped \u001b[38;5;241m=\u001b[39m obj\u001b[38;5;241m.\u001b[39m_map_values(\n\u001b[0;32m   1508\u001b[0m     mapper\u001b[38;5;241m=\u001b[39mcurried, na_action\u001b[38;5;241m=\u001b[39maction, convert\u001b[38;5;241m=\u001b[39m\u001b[38;5;28mself\u001b[39m\u001b[38;5;241m.\u001b[39mconvert_dtype\n\u001b[0;32m   1509\u001b[0m )\n\u001b[0;32m   1511\u001b[0m \u001b[38;5;28;01mif\u001b[39;00m \u001b[38;5;28mlen\u001b[39m(mapped) \u001b[38;5;129;01mand\u001b[39;00m \u001b[38;5;28misinstance\u001b[39m(mapped[\u001b[38;5;241m0\u001b[39m], ABCSeries):\n\u001b[0;32m   1512\u001b[0m     \u001b[38;5;66;03m# GH#43986 Need to do list(mapped) in order to get treated as nested\u001b[39;00m\n\u001b[0;32m   1513\u001b[0m     \u001b[38;5;66;03m#  See also GH#25959 regarding EA support\u001b[39;00m\n\u001b[0;32m   1514\u001b[0m     \u001b[38;5;28;01mreturn\u001b[39;00m obj\u001b[38;5;241m.\u001b[39m_constructor_expanddim(\u001b[38;5;28mlist\u001b[39m(mapped), index\u001b[38;5;241m=\u001b[39mobj\u001b[38;5;241m.\u001b[39mindex)\n",
      "File \u001b[1;32m~\\AppData\\Local\\anaconda3\\Lib\\site-packages\\pandas\\core\\base.py:921\u001b[0m, in \u001b[0;36mIndexOpsMixin._map_values\u001b[1;34m(self, mapper, na_action, convert)\u001b[0m\n\u001b[0;32m    918\u001b[0m \u001b[38;5;28;01mif\u001b[39;00m \u001b[38;5;28misinstance\u001b[39m(arr, ExtensionArray):\n\u001b[0;32m    919\u001b[0m     \u001b[38;5;28;01mreturn\u001b[39;00m arr\u001b[38;5;241m.\u001b[39mmap(mapper, na_action\u001b[38;5;241m=\u001b[39mna_action)\n\u001b[1;32m--> 921\u001b[0m \u001b[38;5;28;01mreturn\u001b[39;00m algorithms\u001b[38;5;241m.\u001b[39mmap_array(arr, mapper, na_action\u001b[38;5;241m=\u001b[39mna_action, convert\u001b[38;5;241m=\u001b[39mconvert)\n",
      "File \u001b[1;32m~\\AppData\\Local\\anaconda3\\Lib\\site-packages\\pandas\\core\\algorithms.py:1743\u001b[0m, in \u001b[0;36mmap_array\u001b[1;34m(arr, mapper, na_action, convert)\u001b[0m\n\u001b[0;32m   1741\u001b[0m values \u001b[38;5;241m=\u001b[39m arr\u001b[38;5;241m.\u001b[39mastype(\u001b[38;5;28mobject\u001b[39m, copy\u001b[38;5;241m=\u001b[39m\u001b[38;5;28;01mFalse\u001b[39;00m)\n\u001b[0;32m   1742\u001b[0m \u001b[38;5;28;01mif\u001b[39;00m na_action \u001b[38;5;129;01mis\u001b[39;00m \u001b[38;5;28;01mNone\u001b[39;00m:\n\u001b[1;32m-> 1743\u001b[0m     \u001b[38;5;28;01mreturn\u001b[39;00m lib\u001b[38;5;241m.\u001b[39mmap_infer(values, mapper, convert\u001b[38;5;241m=\u001b[39mconvert)\n\u001b[0;32m   1744\u001b[0m \u001b[38;5;28;01melse\u001b[39;00m:\n\u001b[0;32m   1745\u001b[0m     \u001b[38;5;28;01mreturn\u001b[39;00m lib\u001b[38;5;241m.\u001b[39mmap_infer_mask(\n\u001b[0;32m   1746\u001b[0m         values, mapper, mask\u001b[38;5;241m=\u001b[39misna(values)\u001b[38;5;241m.\u001b[39mview(np\u001b[38;5;241m.\u001b[39muint8), convert\u001b[38;5;241m=\u001b[39mconvert\n\u001b[0;32m   1747\u001b[0m     )\n",
      "File \u001b[1;32mlib.pyx:2972\u001b[0m, in \u001b[0;36mpandas._libs.lib.map_infer\u001b[1;34m()\u001b[0m\n",
      "Cell \u001b[1;32mIn[29], line 2\u001b[0m, in \u001b[0;36m<lambda>\u001b[1;34m(x)\u001b[0m\n\u001b[0;32m      1\u001b[0m \u001b[38;5;66;03m# Fetch album covers for each track ID\u001b[39;00m\n\u001b[1;32m----> 2\u001b[0m df[\u001b[38;5;124m\"\u001b[39m\u001b[38;5;124mcover_url\u001b[39m\u001b[38;5;124m\"\u001b[39m] \u001b[38;5;241m=\u001b[39m df[\u001b[38;5;124m\"\u001b[39m\u001b[38;5;124mspotify_track_uri\u001b[39m\u001b[38;5;124m\"\u001b[39m]\u001b[38;5;241m.\u001b[39mapply(\u001b[38;5;28;01mlambda\u001b[39;00m x: get_album_cover(x, access_token))\n",
      "Cell \u001b[1;32mIn[27], line 25\u001b[0m, in \u001b[0;36mget_album_cover\u001b[1;34m(track_id, token)\u001b[0m\n\u001b[0;32m     23\u001b[0m \u001b[38;5;28;01mif\u001b[39;00m response\u001b[38;5;241m.\u001b[39mstatus_code \u001b[38;5;241m==\u001b[39m \u001b[38;5;241m200\u001b[39m:\n\u001b[0;32m     24\u001b[0m     json_data \u001b[38;5;241m=\u001b[39m response\u001b[38;5;241m.\u001b[39mjson()\n\u001b[1;32m---> 25\u001b[0m     \u001b[38;5;28;01mreturn\u001b[39;00m json_data[\u001b[38;5;124m'\u001b[39m\u001b[38;5;124malbum\u001b[39m\u001b[38;5;124m'\u001b[39m][\u001b[38;5;124m'\u001b[39m\u001b[38;5;124mimages\u001b[39m\u001b[38;5;124m'\u001b[39m][\u001b[38;5;241m0\u001b[39m][\u001b[38;5;124m'\u001b[39m\u001b[38;5;124murl\u001b[39m\u001b[38;5;124m'\u001b[39m]\n\u001b[0;32m     26\u001b[0m \u001b[38;5;28;01mreturn\u001b[39;00m \u001b[38;5;28;01mNone\u001b[39;00m\n",
      "\u001b[1;31mIndexError\u001b[0m: list index out of range"
     ]
    }
   ],
   "source": [
    "# Fetch album covers for each track ID\n",
    "df[\"cover_url\"] = df[\"spotify_track_uri\"].apply(lambda x: get_album_cover(x, access_token))"
   ]
  },
  {
   "cell_type": "code",
   "execution_count": 31,
   "id": "32776fda-ab4a-47a2-a10d-d26c09ff0f58",
   "metadata": {},
   "outputs": [
    {
     "data": {
      "text/html": [
       "<div>\n",
       "<style scoped>\n",
       "    .dataframe tbody tr th:only-of-type {\n",
       "        vertical-align: middle;\n",
       "    }\n",
       "\n",
       "    .dataframe tbody tr th {\n",
       "        vertical-align: top;\n",
       "    }\n",
       "\n",
       "    .dataframe thead th {\n",
       "        text-align: right;\n",
       "    }\n",
       "</style>\n",
       "<table border=\"1\" class=\"dataframe\">\n",
       "  <thead>\n",
       "    <tr style=\"text-align: right;\">\n",
       "      <th></th>\n",
       "      <th>spotify_track_uri</th>\n",
       "    </tr>\n",
       "  </thead>\n",
       "  <tbody>\n",
       "    <tr>\n",
       "      <th>0</th>\n",
       "      <td>2J3n32GeLmMjwuAzyhcSNe</td>\n",
       "    </tr>\n",
       "    <tr>\n",
       "      <th>1</th>\n",
       "      <td>1oHxIPqJyvAYHy0PVrDU98</td>\n",
       "    </tr>\n",
       "    <tr>\n",
       "      <th>2</th>\n",
       "      <td>487OPlneJNni3NWC8SYqhW</td>\n",
       "    </tr>\n",
       "    <tr>\n",
       "      <th>3</th>\n",
       "      <td>5IyblF777jLZj1vGHG2UD3</td>\n",
       "    </tr>\n",
       "    <tr>\n",
       "      <th>4</th>\n",
       "      <td>0GgAAB0ZMllFhbNc3mAodO</td>\n",
       "    </tr>\n",
       "    <tr>\n",
       "      <th>...</th>\n",
       "      <td>...</td>\n",
       "    </tr>\n",
       "    <tr>\n",
       "      <th>16522</th>\n",
       "      <td>0q1FeGOHG0q6OtAhyNRnEb</td>\n",
       "    </tr>\n",
       "    <tr>\n",
       "      <th>16523</th>\n",
       "      <td>15oN81AHUXutUjqvlnjeHE</td>\n",
       "    </tr>\n",
       "    <tr>\n",
       "      <th>16524</th>\n",
       "      <td>0mWXrr6HQZUhCQG4JMkT2e</td>\n",
       "    </tr>\n",
       "    <tr>\n",
       "      <th>16525</th>\n",
       "      <td>2dhwJNH50XJWS3tCKVWKtD</td>\n",
       "    </tr>\n",
       "    <tr>\n",
       "      <th>16526</th>\n",
       "      <td>0mD2pnYVF8DB3oqtY5KM8h</td>\n",
       "    </tr>\n",
       "  </tbody>\n",
       "</table>\n",
       "<p>16527 rows × 1 columns</p>\n",
       "</div>"
      ],
      "text/plain": [
       "            spotify_track_uri\n",
       "0      2J3n32GeLmMjwuAzyhcSNe\n",
       "1      1oHxIPqJyvAYHy0PVrDU98\n",
       "2      487OPlneJNni3NWC8SYqhW\n",
       "3      5IyblF777jLZj1vGHG2UD3\n",
       "4      0GgAAB0ZMllFhbNc3mAodO\n",
       "...                       ...\n",
       "16522  0q1FeGOHG0q6OtAhyNRnEb\n",
       "16523  15oN81AHUXutUjqvlnjeHE\n",
       "16524  0mWXrr6HQZUhCQG4JMkT2e\n",
       "16525  2dhwJNH50XJWS3tCKVWKtD\n",
       "16526  0mD2pnYVF8DB3oqtY5KM8h\n",
       "\n",
       "[16527 rows x 1 columns]"
      ]
     },
     "execution_count": 31,
     "metadata": {},
     "output_type": "execute_result"
    }
   ],
   "source": [
    "df"
   ]
  },
  {
   "cell_type": "code",
   "execution_count": null,
   "id": "8095c81f-5b9f-437f-b801-7b355fa46e2d",
   "metadata": {},
   "outputs": [],
   "source": [
    "# Save updated file\n",
    "df.to_csv(\"updated_spotify_data.csv\", index=False)"
   ]
  },
  {
   "cell_type": "code",
   "execution_count": 19,
   "id": "581714d2-5d61-47d9-b446-9d57571b7770",
   "metadata": {},
   "outputs": [
    {
     "data": {
      "text/plain": [
       "Index(['spotify_track_uri'], dtype='object')"
      ]
     },
     "execution_count": 19,
     "metadata": {},
     "output_type": "execute_result"
    }
   ],
   "source": [
    "df.columns"
   ]
  },
  {
   "cell_type": "code",
   "execution_count": null,
   "id": "b5069fdb-8ff6-4668-b84e-e08dca9810db",
   "metadata": {},
   "outputs": [],
   "source": []
  },
  {
   "cell_type": "code",
   "execution_count": null,
   "id": "34a02f6c-6ef4-4f65-86ca-21fb83b2ccf3",
   "metadata": {},
   "outputs": [],
   "source": []
  },
  {
   "cell_type": "code",
   "execution_count": null,
   "id": "cf1b431e-998c-45b4-b51b-e9b83b70beb4",
   "metadata": {},
   "outputs": [],
   "source": []
  },
  {
   "cell_type": "code",
   "execution_count": null,
   "id": "f7442391-73dc-49a1-9471-7bab0fca3275",
   "metadata": {},
   "outputs": [],
   "source": []
  },
  {
   "cell_type": "code",
   "execution_count": null,
   "id": "2f25a290-bfd0-4be8-bc45-7e45abf0bf08",
   "metadata": {},
   "outputs": [],
   "source": []
  },
  {
   "cell_type": "code",
   "execution_count": null,
   "id": "b4316ca9-47be-48f9-a92f-48f2bef86ec2",
   "metadata": {},
   "outputs": [],
   "source": []
  },
  {
   "cell_type": "code",
   "execution_count": null,
   "id": "8d3bacb6-8484-4804-b420-07b42d8dda03",
   "metadata": {},
   "outputs": [],
   "source": []
  },
  {
   "cell_type": "code",
   "execution_count": null,
   "id": "a32f7f7b-3f0b-4903-915c-fe03120bc8eb",
   "metadata": {},
   "outputs": [],
   "source": []
  },
  {
   "cell_type": "code",
   "execution_count": null,
   "id": "dca575d8-dad0-435d-b3fb-c37696e39cdf",
   "metadata": {},
   "outputs": [],
   "source": []
  },
  {
   "cell_type": "code",
   "execution_count": null,
   "id": "e791e7be-615f-41d1-919d-e79777b5c557",
   "metadata": {},
   "outputs": [],
   "source": []
  },
  {
   "cell_type": "code",
   "execution_count": null,
   "id": "7510c283-38a1-4e58-a2b2-9d345b42f72e",
   "metadata": {},
   "outputs": [],
   "source": []
  },
  {
   "cell_type": "code",
   "execution_count": null,
   "id": "b085ee00-96e1-456d-9889-56ebf579f621",
   "metadata": {},
   "outputs": [],
   "source": [
    "import aiohttp\n",
    "import asyncio\n",
    "import pandas as pd\n",
    "import base64\n",
    "import requests\n",
    "import time\n",
    "\n",
    "# Spotify API credentials\n",
    "CLIENT_ID = 'f7d77d6ae3f14dc8baebb37b9e758cb1'\n",
    "CLIENT_SECRET = '29b46d3070974bf1a9837674c9a7d988'\n",
    "\n",
    "# Function to get a fresh Spotify access token\n",
    "def get_access_token():\n",
    "    auth_string = f'{CLIENT_ID}:{CLIENT_SECRET}'\n",
    "    encoded_auth_string = base64.b64encode(auth_string.encode('ascii')).decode('ascii')\n",
    "\n",
    "    url = 'https://accounts.spotify.com/api/token'\n",
    "    headers = {'Authorization': f'Basic {encoded_auth_string}', 'Content-Type': 'application/x-www-form-urlencoded'}\n",
    "    data = {'grant_type': 'client_credentials'}\n",
    "\n",
    "    response = requests.post(url, headers=headers, data=data)\n",
    "    if response.status_code == 200:\n",
    "        return response.json().get('access_token')\n",
    "    else:\n",
    "        print(f\"Failed to get token: {response.status_code}, {response.text}\")\n",
    "        return None\n",
    "\n",
    "# Fetch token before starting async tasks\n",
    "TOKEN = get_access_token()\n",
    "\n",
    "# Function to fetch track image asynchronously\n",
    "async def fetch_image_url(session, track_id):\n",
    "    url = f'https://api.spotify.com/v1/tracks/{track_id}'\n",
    "    headers = {'Authorization': f'Bearer {TOKEN}'}\n",
    "\n",
    "    async with session.get(url, headers=headers) as response:\n",
    "        if response.status == 200:\n",
    "            track_data = await response.json()\n",
    "            return track_id, track_data['album']['images'][0]['url']\n",
    "        elif response.status == 429:  # Too Many Requests\n",
    "            retry_after = int(response.headers.get(\"Retry-After\", 5))\n",
    "            print(f\"Rate limit hit! Waiting {retry_after} seconds...\")\n",
    "            await asyncio.sleep(retry_after)\n",
    "            return await fetch_image_url(session, track_id)  # Retry\n",
    "        else:\n",
    "            print(f\"Failed to fetch {track_id}: {response.status}\")\n",
    "            return track_id, None\n",
    "\n",
    "# Async function to run multiple requests\n",
    "async def fetch_all_images(track_ids):\n",
    "    async with aiohttp.ClientSession() as session:\n",
    "        tasks = [fetch_image_url(session, track_id) for track_id in track_ids]\n",
    "        return await asyncio.gather(*tasks)"
   ]
  },
  {
   "cell_type": "code",
   "execution_count": null,
   "id": "2a7d2f08-e918-430b-bedc-83cad78c45a9",
   "metadata": {},
   "outputs": [],
   "source": [
    "import nest_asyncio\n",
    "nest_asyncio.apply()"
   ]
  },
  {
   "cell_type": "code",
   "execution_count": null,
   "id": "5287ba0a-635a-4c13-a5a8-9bef146a7a0f",
   "metadata": {},
   "outputs": [],
   "source": [
    "# Load dataset\n",
    "#df = pd.read_csv(\"spotify_tracks.csv\")  # Change file name accordingly\n",
    "unique_track_ids = tracks_id['spotify_track_uri']\n",
    "\n",
    "# Run async function to fetch images\n",
    "# Run async function to fetch images\n",
    "image_results = asyncio.run(fetch_all_images(unique_track_ids))\n",
    "\n",
    "# Convert to DataFrame\n",
    "image_df = pd.DataFrame(image_results, columns=['spotify_track_uri', 'image_url'])\n",
    "tracks_id = tracks_id.merge(image_df, on='spotify_track_uri', how='left')"
   ]
  },
  {
   "cell_type": "code",
   "execution_count": null,
   "id": "65d70ed2-b49b-488d-8f71-d365e66bbaac",
   "metadata": {},
   "outputs": [],
   "source": [
    "# Save the updated dataset\n",
    "tracks_id.to_csv(\"spotify_tracks_with_images.csv\", index=False)\n",
    "\n",
    "print(\"✅ Fetching complete. File saved as 'spotify_tracks_with_images.csv'\")"
   ]
  },
  {
   "cell_type": "code",
   "execution_count": null,
   "id": "a6cf3dda-3d57-46f2-80f7-47610d9a6ae7",
   "metadata": {},
   "outputs": [],
   "source": []
  },
  {
   "cell_type": "code",
   "execution_count": null,
   "id": "a69b5397-c282-4735-bfa5-5349079d3645",
   "metadata": {},
   "outputs": [],
   "source": []
  },
  {
   "cell_type": "code",
   "execution_count": null,
   "id": "ef5db6cf-f573-44f4-8ee8-7f13b44950db",
   "metadata": {},
   "outputs": [],
   "source": []
  },
  {
   "cell_type": "code",
   "execution_count": null,
   "id": "2806a357-0c59-4f4b-a310-767b81a6ce9b",
   "metadata": {},
   "outputs": [],
   "source": [
    "import requests\n",
    "import time\n",
    "import pandas as pd\n",
    "import base64\n",
    "\n",
    "# Spotify API credentials\n",
    "CLIENT_ID = 'f7d77d6ae3f14dc8baebb37b9e758cb1'\n",
    "CLIENT_SECRET = '29b46d3070974bf1a9837674c9a7d988'\n",
    "\n",
    "\n",
    "# Function to get a new access token\n",
    "def get_access_token():\n",
    "    auth_string = f'{CLIENT_ID}:{CLIENT_SECRET}'\n",
    "    encoded_auth_string = base64.b64encode(auth_string.encode('ascii')).decode('ascii')\n",
    "\n",
    "    url = 'https://accounts.spotify.com/api/token'\n",
    "    headers = {\n",
    "        'Authorization': f'Basic {encoded_auth_string}',\n",
    "        'Content-Type': 'application/x-www-form-urlencoded'\n",
    "    }\n",
    "    data = {'grant_type': 'client_credentials'}\n",
    "\n",
    "    response = requests.post(url, headers=headers, data=data)\n",
    "    \n",
    "    if response.status_code == 200:\n",
    "        return response.json()['access_token']\n",
    "    else:\n",
    "        print(f\"Failed to get token: {response.status_code}, {response.text}\")\n",
    "        return None\n",
    "\n",
    "# Function to fetch track image\n",
    "def fetch_image_url(track_id, token):\n",
    "    url = f'https://api.spotify.com/v1/tracks/{track_id}'\n",
    "    headers = {'Authorization': f'Bearer {token}'}\n",
    "    \n",
    "    response = requests.get(url, headers=headers)\n",
    "    \n",
    "    if response.status_code == 200:\n",
    "        track_data = response.json()\n",
    "        return track_data['album']['images'][0]['url']\n",
    "    elif response.status_code == 401:  # Token expired\n",
    "        print(\"🔄 Token expired, refreshing...\")\n",
    "        return \"TOKEN_EXPIRED\"\n",
    "    elif response.status_code == 429:  # Rate limit hit\n",
    "        print(\"🚨 Rate limit hit! Waiting...\")\n",
    "        time.sleep(5)  # Wait 5 seconds and retry\n",
    "        return fetch_image_url(track_id, token)\n",
    "    else:\n",
    "        print(f\"⚠️ Failed to fetch {track_id}: {response.status_code}\")\n",
    "        return None\n",
    "\n",
    "# Load CSV file (Replace with your file path)\n",
    "df = pd.read_csv('spotify_history.csv')\n",
    "\n",
    "# Extract unique track IDs\n",
    "unique_track_ids = df['spotify_track_uri'].unique()\n",
    "\n",
    "# Get initial access token\n",
    "token = get_access_token()\n",
    "\n",
    "# Fetch image URLs\n",
    "image_data = []\n",
    "for i, track_id in enumerate(unique_track_ids):\n",
    "    print(f\"Fetching {i+1}/{len(unique_track_ids)}: {track_id}\")\n",
    "    \n",
    "    image_url = fetch_image_url(track_id, token)\n",
    "    \n",
    "    # If token expired, refresh and retry\n",
    "    if image_url == \"TOKEN_EXPIRED\":\n",
    "        token = get_access_token()\n",
    "        image_url = fetch_image_url(track_id, token)\n",
    "    \n",
    "    image_data.append((track_id, image_url))\n",
    "    \n",
    "    # Respect API rate limits (Spotify allows ~50-100 requests/sec)\n",
    "    time.sleep(0.1)  # Wait 100ms between requests\n",
    "\n",
    "# Convert to DataFrame and Save\n",
    "image_df = pd.DataFrame(image_data, columns=['spotify_track_uri', 'image_url'])\n",
    "image_df.to_csv(\"spotify_images.csv\", index=False)\n",
    "\n",
    "print(\"✅ Image fetching complete! Saved to 'spotify_images.csv'\")"
   ]
  },
  {
   "cell_type": "code",
   "execution_count": null,
   "id": "54d41be5-f1a2-416f-9a5d-23dcc5f23b4d",
   "metadata": {},
   "outputs": [],
   "source": []
  },
  {
   "cell_type": "code",
   "execution_count": null,
   "id": "7c8e0754-2676-4198-bbf3-98ec950a190a",
   "metadata": {},
   "outputs": [],
   "source": []
  },
  {
   "cell_type": "code",
   "execution_count": null,
   "id": "f1fd337e-9e1f-43d8-bedc-b5bdfc33edbd",
   "metadata": {},
   "outputs": [],
   "source": [
    "import requests\n",
    "import base64"
   ]
  },
  {
   "cell_type": "code",
   "execution_count": null,
   "id": "7570e17f-e923-4ac2-9779-98acf8fcb41f",
   "metadata": {},
   "outputs": [],
   "source": [
    "# Step 1: Get Access Token (You can use your existing access token logic)\n",
    "CLIENT_ID = 'f7d77d6ae3f14dc8baebb37b9e758cb1'\n",
    "CLIENT_SECRET = '29b46d3070974bf1a9837674c9a7d988'\n",
    "\n",
    "auth_string = f'{CLIENT_ID}:{CLIENT_SECRET}'\n",
    "encoded_auth_string = base64.b64encode(auth_string.encode('ascii')).decode('ascii')\n",
    "\n",
    "url = 'https://accounts.spotify.com/api/token'\n",
    "headers = {\n",
    "    'Authorization': f'Basic {encoded_auth_string}',\n",
    "    'Content-Type': 'application/x-www-form-urlencoded'\n",
    "}\n",
    "\n",
    "data = {'grant_type': 'client_credentials'}\n",
    "response = requests.post(url, headers=headers, data=data)\n",
    "\n",
    "if response.status_code == 200:\n",
    "    token = response.json().get('access_token')\n",
    "    print(f\"Access Token: {token}\")\n",
    "else:\n",
    "    print(f\"Failed to get token: {response.status_code}, {response.text}\")\n",
    "    token = None"
   ]
  },
  {
   "cell_type": "code",
   "execution_count": null,
   "id": "74a8bc46-bb36-4d94-ae3e-93f9ca0c205d",
   "metadata": {},
   "outputs": [],
   "source": [
    "# Function to get the image URL for a track ID\n",
    "def get_image_url(track_id, token):\n",
    "    track_url = f'https://api.spotify.com/v1/tracks/{track_id}'\n",
    "    headers = {\n",
    "        'Authorization': f'Bearer {token}'\n",
    "    }\n",
    "    \n",
    "    # Make the GET request to fetch track data\n",
    "    track_response = requests.get(track_url, headers=headers)\n",
    "    \n",
    "    if track_response.status_code == 200:\n",
    "        track_data = track_response.json()\n",
    "        image_url = track_data['album']['images'][0]['url']\n",
    "        return image_url\n",
    "    else:\n",
    "        return None  # Return None if fetching the image fails"
   ]
  },
  {
   "cell_type": "code",
   "execution_count": null,
   "id": "29f00112-37f0-483a-8b74-8c02ab0038bb",
   "metadata": {},
   "outputs": [],
   "source": [
    "# Assuming your function get_image_url is defined and df_unique_tracks is the DataFrame\n",
    "def get_image_url(track_id, token):\n",
    "    track_url = f'https://api.spotify.com/v1/tracks/{track_id}'\n",
    "    headers = {\n",
    "        'Authorization': f'Bearer {token}'\n",
    "    }\n",
    "    \n",
    "    # Make the GET request to fetch track data\n",
    "    track_response = requests.get(track_url, headers=headers)\n",
    "    \n",
    "    if track_response.status_code == 200:\n",
    "        track_data = track_response.json()\n",
    "        image_url = track_data['album']['images'][0]['url']\n",
    "        return image_url\n",
    "    else:\n",
    "        return None  # Return None if fetching the image fails\n",
    "\n",
    "# Apply the get_image_url function to each row in the DataFrame and create a new column 'image_url'\n",
    "tracks_id['image_url'] = tracks_id['spotify_track_uri'].apply(lambda track_id: get_image_url(track_id, token))\n",
    "\n",
    "# Display the DataFrame with the new 'image_url' column\n",
    "print(tracks_id)"
   ]
  },
  {
   "cell_type": "code",
   "execution_count": null,
   "id": "a32905af-f864-4af7-b08d-8c81d5c2c6f5",
   "metadata": {},
   "outputs": [],
   "source": [
    "tracks_id"
   ]
  },
  {
   "cell_type": "code",
   "execution_count": null,
   "id": "b733857d-dd98-410b-9e86-e39ffce12a99",
   "metadata": {},
   "outputs": [],
   "source": [
    "tracks_id.isnull().sum()"
   ]
  },
  {
   "cell_type": "code",
   "execution_count": null,
   "id": "b11da727-c2d6-442a-8c8b-8b3bfaaad1da",
   "metadata": {},
   "outputs": [],
   "source": [
    "track_id = '0mD2pnYVF8DB3oqtY5KM8h'  # Replace with the actual track ID\n",
    "track_url = f'https://api.spotify.com/v1/tracks/{track_id}'\n",
    "\n",
    "headers = {\n",
    "    'Authorization': f'Bearer {token}'  # Make sure your token is valid\n",
    "}\n",
    "\n",
    "track_response = requests.get(track_url, headers=headers)\n",
    "\n",
    "if track_response.status_code == 200:\n",
    "    track_data = track_response.json()\n",
    "    images = track_data['album']['images']\n",
    "    if images:  # Check if images array is not empty\n",
    "        image_url = images[0]['url']\n",
    "    else:\n",
    "        image_url = None  # No images available\n",
    "    print(f\"Track Image URL: {image_url}\")\n",
    "else:\n",
    "    print(f\"Failed to fetch track data: {track_response.status_code}\")"
   ]
  },
  {
   "cell_type": "code",
   "execution_count": null,
   "id": "3cc3e68b-6363-4e41-8ed3-1cd94fd5b4ab",
   "metadata": {},
   "outputs": [],
   "source": []
  }
 ],
 "metadata": {
  "kernelspec": {
   "display_name": "Python 3 (ipykernel)",
   "language": "python",
   "name": "python3"
  },
  "language_info": {
   "codemirror_mode": {
    "name": "ipython",
    "version": 3
   },
   "file_extension": ".py",
   "mimetype": "text/x-python",
   "name": "python",
   "nbconvert_exporter": "python",
   "pygments_lexer": "ipython3",
   "version": "3.12.7"
  }
 },
 "nbformat": 4,
 "nbformat_minor": 5
}
