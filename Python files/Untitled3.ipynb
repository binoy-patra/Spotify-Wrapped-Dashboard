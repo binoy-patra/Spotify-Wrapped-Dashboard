{
 "cells": [
  {
   "cell_type": "code",
   "execution_count": 3,
   "id": "dc2d9fa4-1897-477e-81ff-a3535f124050",
   "metadata": {},
   "outputs": [],
   "source": [
    "import numpy as np\n",
    "import pandas as pd \n",
    "\n",
    "# Main CSV\n",
    "data= pd.read_csv(\"spotify_history.csv\")\n",
    "data2= pd.read_csv(\"Music.csv\") #with images "
   ]
  },
  {
   "cell_type": "code",
   "execution_count": 5,
   "id": "2ce45227-df85-4d05-9e58-3b87da91be0b",
   "metadata": {},
   "outputs": [
    {
     "name": "stdout",
     "output_type": "stream",
     "text": [
      "(149860, 11)\n",
      "(65795, 20)\n"
     ]
    }
   ],
   "source": [
    "print(data.shape)\n",
    "print(data2.shape)"
   ]
  },
  {
   "cell_type": "code",
   "execution_count": 13,
   "id": "5a77c3a0-5d10-462a-984e-7e3337e2dc22",
   "metadata": {},
   "outputs": [
    {
     "name": "stdout",
     "output_type": "stream",
     "text": [
      "Index(['spotify_track_uri', 'ts', 'platform', 'ms_played', 'track_name',\n",
      "       'artist_name', 'album_name', 'reason_start', 'reason_end', 'shuffle',\n",
      "       'skipped'],\n",
      "      dtype='object')\n",
      "Index(['name', 'artist', 'spotify_id', 'preview', 'img', 'danceability',\n",
      "       'energy', 'loudness', 'speechiness', 'acousticness', 'instrumentalness',\n",
      "       'liveness', 'valence', 'acousticness_artist', 'danceability_artist',\n",
      "       'energy_artist', 'instrumentalness_artist', 'liveness_artist',\n",
      "       'speechiness_artist', 'valence_artist'],\n",
      "      dtype='object')\n"
     ]
    }
   ],
   "source": [
    "print(data.columns)\n",
    "print(data2.columns)"
   ]
  },
  {
   "cell_type": "code",
   "execution_count": 11,
   "id": "ecaceac3-e40e-4fcf-bb42-e90bcecd502d",
   "metadata": {},
   "outputs": [
    {
     "data": {
      "text/plain": [
       "spotify_track_uri    16527\n",
       "track_name           13839\n",
       "dtype: int64"
      ]
     },
     "execution_count": 11,
     "metadata": {},
     "output_type": "execute_result"
    }
   ],
   "source": [
    "data[['spotify_track_uri','track_name']].nunique()"
   ]
  },
  {
   "cell_type": "code",
   "execution_count": 15,
   "id": "4a3f5d89-6ab2-4aaf-ae38-ddffa1a2aa89",
   "metadata": {},
   "outputs": [
    {
     "data": {
      "text/plain": [
       "spotify_id    65061\n",
       "name          56924\n",
       "dtype: int64"
      ]
     },
     "execution_count": 15,
     "metadata": {},
     "output_type": "execute_result"
    }
   ],
   "source": [
    "data2[['spotify_id','name']].nunique()"
   ]
  },
  {
   "cell_type": "code",
   "execution_count": null,
   "id": "2ff9329d-4743-423c-ad4a-a9635584846f",
   "metadata": {},
   "outputs": [],
   "source": [
    "id1= set(data['spotify_track_uri'].unique())\n",
    "id2= set(data2['spotify_id'].unique())\n",
    "\n"
   ]
  }
 ],
 "metadata": {
  "kernelspec": {
   "display_name": "Python 3 (ipykernel)",
   "language": "python",
   "name": "python3"
  },
  "language_info": {
   "codemirror_mode": {
    "name": "ipython",
    "version": 3
   },
   "file_extension": ".py",
   "mimetype": "text/x-python",
   "name": "python",
   "nbconvert_exporter": "python",
   "pygments_lexer": "ipython3",
   "version": "3.12.7"
  }
 },
 "nbformat": 4,
 "nbformat_minor": 5
}
